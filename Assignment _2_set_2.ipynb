{
 "cells": [
  {
   "cell_type": "code",
   "execution_count": 52,
   "id": "004aa194",
   "metadata": {},
   "outputs": [],
   "source": [
    "from scipy import stats\n",
    "from scipy.stats import norm\n",
    "import numpy as np"
   ]
  },
  {
   "cell_type": "markdown",
   "id": "96baf1a1",
   "metadata": {},
   "source": [
    "# QUESTION 1"
   ]
  },
  {
   "cell_type": "code",
   "execution_count": 37,
   "id": "a34814da",
   "metadata": {},
   "outputs": [
    {
     "data": {
      "text/plain": [
       "0.625"
      ]
     },
     "execution_count": 37,
     "metadata": {},
     "output_type": "execute_result"
    }
   ],
   "source": [
    "# Find Z-Scores at X=60; Z = (X - µ) / σ \n",
    "Z=(60-55)/8\n",
    "Z"
   ]
  },
  {
   "cell_type": "code",
   "execution_count": 38,
   "id": "9f7d67de",
   "metadata": {},
   "outputs": [
    {
     "data": {
      "text/plain": [
       "0.26598552904870054"
      ]
     },
     "execution_count": 38,
     "metadata": {},
     "output_type": "execute_result"
    }
   ],
   "source": [
    "# Find probability P(X>55) = 1-stats.norm.cdf(abs(z_score))\n",
    "1-stats.norm.cdf(abs(0.625))"
   ]
  },
  {
   "cell_type": "code",
   "execution_count": 39,
   "id": "e27e161b",
   "metadata": {},
   "outputs": [
    {
     "data": {
      "text/plain": [
       "0.7340144709512995"
      ]
     },
     "execution_count": 39,
     "metadata": {},
     "output_type": "execute_result"
    }
   ],
   "source": [
    "# OR Find probability P(X>=55); p_value=stats.norm.cdf(abs(z_score))  \n",
    "p_value=stats.norm.cdf(abs(0.625)) \n",
    "p_value"
   ]
  },
  {
   "cell_type": "code",
   "execution_count": 40,
   "id": "dae76786",
   "metadata": {},
   "outputs": [
    {
     "data": {
      "text/plain": [
       "0.26598552904870054"
      ]
     },
     "execution_count": 40,
     "metadata": {},
     "output_type": "execute_result"
    }
   ],
   "source": [
    "# P(X>55) = 1 - P(X>=55)p_value\n",
    "1-0.7340144709512995"
   ]
  },
  {
   "cell_type": "markdown",
   "id": "fa3c9993",
   "metadata": {},
   "source": [
    "# QUESTION 2 A"
   ]
  },
  {
   "cell_type": "code",
   "execution_count": 42,
   "id": "9c8fde19",
   "metadata": {},
   "outputs": [
    {
     "data": {
      "text/plain": [
       "1.0"
      ]
     },
     "execution_count": 42,
     "metadata": {},
     "output_type": "execute_result"
    }
   ],
   "source": [
    "#Find Z-Scores for people having 44 age is at X=44; Z = (X - µ) / σ \n",
    "Z=(44-38)/6\n",
    "Z"
   ]
  },
  {
   "cell_type": "code",
   "execution_count": 44,
   "id": "081f505b",
   "metadata": {},
   "outputs": [
    {
     "data": {
      "text/plain": [
       "0.0"
      ]
     },
     "execution_count": 44,
     "metadata": {},
     "output_type": "execute_result"
    }
   ],
   "source": [
    "#Find Z-Scores for people having 38 age is at X=38; Z = (X - µ) / σ \n",
    "z=(38-38)/6\n",
    "z"
   ]
  },
  {
   "cell_type": "markdown",
   "id": "af5b2dd9",
   "metadata": {},
   "source": [
    "# QUESTION 2 B"
   ]
  },
  {
   "cell_type": "code",
   "execution_count": 47,
   "id": "7a70bd6e",
   "metadata": {},
   "outputs": [
    {
     "data": {
      "text/plain": [
       "-1.3333333333333333"
      ]
     },
     "execution_count": 47,
     "metadata": {},
     "output_type": "execute_result"
    }
   ],
   "source": [
    "#Find Z-Scores for people having 30 age is at X=30; Z = (X - µ) / σ\n",
    "z=(30-38)/6\n",
    "z"
   ]
  },
  {
   "cell_type": "markdown",
   "id": "4ffc648d",
   "metadata": {},
   "source": [
    "# QUESTION 4"
   ]
  },
  {
   "cell_type": "code",
   "execution_count": 59,
   "id": "f42bd0b3",
   "metadata": {},
   "outputs": [],
   "source": [
    "mean = 100\n",
    "std = 20"
   ]
  },
  {
   "cell_type": "code",
   "execution_count": 61,
   "id": "394255ae",
   "metadata": {},
   "outputs": [
    {
     "data": {
      "text/plain": [
       "-2.5758"
      ]
     },
     "execution_count": 61,
     "metadata": {},
     "output_type": "execute_result"
    }
   ],
   "source": [
    "# Z value for .005 percentiles \n",
    "z_005_ = np.round(stats.norm.ppf(0.005),4)\n",
    "z_005_"
   ]
  },
  {
   "cell_type": "code",
   "execution_count": 62,
   "id": "46081175",
   "metadata": {},
   "outputs": [
    {
     "data": {
      "text/plain": [
       "2.5758"
      ]
     },
     "execution_count": 62,
     "metadata": {},
     "output_type": "execute_result"
    }
   ],
   "source": [
    "# Z value for .995 percentiles \n",
    "z_995_ = np.round(stats.norm.ppf(0.995),4)\n",
    "z_995_"
   ]
  },
  {
   "cell_type": "code",
   "execution_count": 64,
   "id": "1e4fa0fd",
   "metadata": {},
   "outputs": [
    {
     "name": "stdout",
     "output_type": "stream",
     "text": [
      "48.5 151.5\n"
     ]
    }
   ],
   "source": [
    "#z = (x_bar - mean) / std\n",
    "#x_bar = (z*std) + mean\n",
    "a = np.round((z_005_*std) + mean,1)\n",
    "b = np.round((z_995_*std) + mean,1)\n",
    "print(a,b)\n"
   ]
  },
  {
   "cell_type": "markdown",
   "id": "6f065c9f",
   "metadata": {},
   "source": [
    "# QUESTION 5 A"
   ]
  },
  {
   "cell_type": "code",
   "execution_count": 69,
   "id": "e1051e78",
   "metadata": {},
   "outputs": [
    {
     "name": "stdout",
     "output_type": "stream",
     "text": [
      "12 Million$\n",
      "54.0 Crore Rupees\n",
      "5.0 Million$\n",
      "22.5 Crore Rupees\n"
     ]
    }
   ],
   "source": [
    "#Adition of both division mean\n",
    "mean1 = 5\n",
    "mean2 = 7\n",
    "Mean = (mean1+mean2) # 1 USD = 45 rupees\n",
    "print(Mean, 'Million$')\n",
    "print((Mean*45)/10, 'Crore Rupees')\n",
    "\n",
    "#Adition of both division standard diviation\n",
    "std1 = 3**2\n",
    "std2 = 4**2\n",
    "Std = np.sqrt(std1 + std2)\n",
    "print( Std, 'Million$')\n",
    "print((Std*45)/10, 'Crore Rupees')"
   ]
  },
  {
   "cell_type": "code",
   "execution_count": 73,
   "id": "08ad5082",
   "metadata": {},
   "outputs": [
    {
     "name": "stdout",
     "output_type": "stream",
     "text": [
      "2.2 to 21.8 Million$\n",
      "9.900000000000002 to 98.1 Crore Rupees\n"
     ]
    }
   ],
   "source": [
    "r1, r2 = np.round(stats.norm.interval(0.95, Mean, Std),2)\n",
    "print(r1,'to',r2,'Million$')\n",
    "print(np.divide(np.multiply(r1,45),10),'to',np.divide(np.multiply(r2,45),10), 'Crore Rupees')"
   ]
  },
  {
   "cell_type": "markdown",
   "id": "fd25994d",
   "metadata": {},
   "source": [
    "# QUESTION N0 5 B"
   ]
  },
  {
   "cell_type": "code",
   "execution_count": 89,
   "id": "a32beae1",
   "metadata": {},
   "outputs": [
    {
     "name": "stdout",
     "output_type": "stream",
     "text": [
      "-1.6448536269514729\n",
      "3.7757318652426353 Million$\n",
      "16.990793393591858 Crore Rupees\n"
     ]
    }
   ],
   "source": [
    "#5th percentile of profit \n",
    "Z_05_ = stats.norm.ppf(0.05)\n",
    "print(Z_05_)\n",
    "Fifth_percentile = (Z_05_ * Std) + Mean\n",
    "print(Fifth_percentile,'Million$')\n",
    "print((Fifth_percentile*45/10),'Crore Rupees')"
   ]
  },
  {
   "cell_type": "markdown",
   "id": "7d763ded",
   "metadata": {},
   "source": [
    "# QUESTION N0 5 C"
   ]
  },
  {
   "cell_type": "code",
   "execution_count": 91,
   "id": "7581aba3",
   "metadata": {},
   "outputs": [
    {
     "name": "stdout",
     "output_type": "stream",
     "text": [
      "4.78 %\n",
      "4.01 %\n",
      "The Division 1 has a larger Probability of making a loss\n"
     ]
    }
   ],
   "source": [
    "# The probability of Division #1 making a loss\n",
    "print(np.round((stats.norm.cdf(0,5,3))*100,2),'%')\n",
    "\n",
    "# The probability of Division #2 making a loss\n",
    "print(np.round((stats.norm.cdf(0,7,4))*100,2),'%')\n",
    "\n",
    "Division_1 = (stats.norm.cdf(0,5,3))*100\n",
    "Division_2 = (stats.norm.cdf(0,7,4))*100\n",
    "\n",
    "if Division_1>Division_2:\n",
    "    print('The Division 1 has a larger Probability of making a loss')\n",
    "else:\n",
    "          print('The Division 2 has a larger Porbability of making a loss')"
   ]
  }
 ],
 "metadata": {
  "kernelspec": {
   "display_name": "Python 3 (ipykernel)",
   "language": "python",
   "name": "python3"
  },
  "language_info": {
   "codemirror_mode": {
    "name": "ipython",
    "version": 3
   },
   "file_extension": ".py",
   "mimetype": "text/x-python",
   "name": "python",
   "nbconvert_exporter": "python",
   "pygments_lexer": "ipython3",
   "version": "3.10.9"
  }
 },
 "nbformat": 4,
 "nbformat_minor": 5
}
